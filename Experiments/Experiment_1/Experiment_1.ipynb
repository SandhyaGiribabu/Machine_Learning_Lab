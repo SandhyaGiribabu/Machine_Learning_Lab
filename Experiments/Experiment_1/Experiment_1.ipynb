{
  "nbformat": 4,
  "nbformat_minor": 0,
  "metadata": {
    "colab": {
      "provenance": [],
      "authorship_tag": "ABX9TyM/7YdSqdlrT1xDZ9QOK6JV",
      "include_colab_link": true
    },
    "kernelspec": {
      "name": "python3",
      "display_name": "Python 3"
    },
    "language_info": {
      "name": "python"
    }
  },
  "cells": [
    {
      "cell_type": "markdown",
      "metadata": {
        "id": "view-in-github",
        "colab_type": "text"
      },
      "source": [
        "<a href=\"https://colab.research.google.com/github/SandhyaGiribabu/Machine_Learning_Lab/blob/main/Experiments/Experiment_1/Experiment_1.ipynb\" target=\"_parent\"><img src=\"https://colab.research.google.com/assets/colab-badge.svg\" alt=\"Open In Colab\"/></a>"
      ]
    },
    {
      "cell_type": "markdown",
      "source": [
        " **Experiment 1: Working with Python packages – Numpy, Scipy, Scikit-learn, Matplotlib**"
      ],
      "metadata": {
        "id": "m-WyJmouLiDT"
      }
    },
    {
      "cell_type": "markdown",
      "source": [
        "**1. Explore the various functions and methods available in the following Python libraries: Numpy,\n",
        "Pandas, Scipy, Scikit-learn, Matplotlib. Understand the key operations such as array\n",
        "manipulations, data preprocessing, mathematical computing, machine learning workflows,\n",
        "and data visualization**"
      ],
      "metadata": {
        "id": "5W93iKZtL1RL"
      }
    },
    {
      "cell_type": "markdown",
      "source": [
        "The following is a brief overview of the key functions, methods, and operations available in the Python libraries: NumPy, Pandas, SciPy, Scikit-learn, and Matplotlib. These libraries are essential for performing tasks related to data analysis, machine learning, numerical computing, and visualization.\n",
        "\n",
        "**1. NumPy (Numerical Python)\n",
        "NumPy provides support for large, multi-dimensional arrays and matrices, along with a collection of mathematical functions to operate on them.**\n",
        "\n",
        "Key Operations and Methods:\n",
        "\n",
        "Array Creation: array(), zeros(), ones(), arange(), linspace()\n",
        "\n",
        "Array Manipulation: reshape(), flatten(), transpose(), concatenate(), stack()\n",
        "\n",
        "Mathematical Computations: sum(), mean(), std(), dot(), functions from numpy.linalg for linear algebra\n",
        "\n",
        "Indexing and Slicing: Support for advanced slicing, masking, and broadcasting\n",
        "\n",
        "**2. Pandas (Python Data Analysis Library)\n",
        "Pandas offers data structures and operations for manipulating numerical tables and time series data, primarily through its Series and DataFrame objects.**\n",
        "\n",
        "Key Operations and Methods:\n",
        "\n",
        "Data Structures: Series (1D), DataFrame (2D)\n",
        "\n",
        "Data Loading: read_csv(), read_excel(), read_json()\n",
        "\n",
        "Data Inspection: head(), info(), describe(), shape\n",
        "\n",
        "Data Selection: loc[], iloc[], filtering using boolean indexing\n",
        "\n",
        "Data Cleaning: dropna(), fillna(), replace(), astype()\n",
        "\n",
        "Aggregation: groupby(), agg(), pivot_table()\n",
        "\n",
        "Merging and Joining: merge(), concat(), join()\n",
        "\n",
        "**3. SciPy (Scientific Python)\n",
        "SciPy is built on top of NumPy and provides modules for optimization, integration, interpolation, eigenvalue problems, algebraic equations, and other scientific computations.**\n",
        "\n",
        "Key Modules and Functions:\n",
        "\n",
        "Linear Algebra: scipy.linalg – advanced operations like matrix inversion, solving systems of equations\n",
        "\n",
        "Optimization: scipy.optimize – for finding minima/maxima and solving equations\n",
        "\n",
        "Statistics: scipy.stats – probability distributions, statistical tests\n",
        "\n",
        "Signal Processing: scipy.signal\n",
        "\n",
        "Numerical Integration: scipy.integrate – for definite integrals and differential equations\n",
        "\n",
        "**4. Scikit-learn (Machine Learning Library)\n",
        "Scikit-learn is a robust library for machine learning, offering simple and efficient tools for data mining and data analysis.**\n",
        "\n",
        "Key Operations and Components:\n",
        "\n",
        "Preprocessing: StandardScaler, LabelEncoder, OneHotEncoder, train_test_split()\n",
        "\n",
        "Models and Algorithms: LinearRegression, LogisticRegression, SVC, DecisionTreeClassifier, KMeans, etc.\n",
        "\n",
        "Model Fitting: .fit() method\n",
        "\n",
        "Prediction: .predict() method\n",
        "\n",
        "Evaluation: accuracy_score(), confusion_matrix(), classification_report(), cross_val_score()\n",
        "\n",
        "Pipelines: Used to streamline workflows by chaining preprocessing and modeling steps\n",
        "\n",
        "**5. Matplotlib (Plotting and Visualization Library)\n",
        "Matplotlib is a comprehensive library for creating static, animated, and interactive visualizations in Python.**\n",
        "\n",
        "Key Functions and Methods:\n",
        "\n",
        "Basic Plotting: plot(), scatter(), bar(), hist(), pie()\n",
        "\n",
        "Axis Labels and Titles: xlabel(), ylabel(), title(), legend(), grid()\n",
        "\n",
        "Subplots: subplot(), subplots() – for arranging multiple plots in one figure\n",
        "\n",
        "Saving Figures: savefig() – to export plots to image files\n",
        "\n",
        "Style Customization: Support for themes and plot aesthetics using style.use()\n",
        "\n"
      ],
      "metadata": {
        "id": "-_9PsrccMc_4"
      }
    },
    {
      "cell_type": "markdown",
      "source": [
        "**2. Explore public repositories such as the UCI Machine Learning Repository (UCI Repository) and Kaggle Datasets. Download the following datasets and identify the appropriate machine learning model to be used (e.g., Supervised, Unsupervised, Semi-supervised, Regression, Classification) [CO1, K3].**\n",
        "\n",
        "**i.) Loan amount prediction**"
      ],
      "metadata": {
        "id": "8pzc8qxmM1xh"
      }
    },
    {
      "cell_type": "code",
      "source": [
        "!pip install pandas scikit-learn seaborn opendatasets --quiet\n"
      ],
      "metadata": {
        "id": "X_inBnIXN-j-"
      },
      "execution_count": null,
      "outputs": []
    },
    {
      "cell_type": "code",
      "source": [
        "import opendatasets as od\n",
        "\n",
        "# Automatically downloads and unzips to local directory\n",
        "od.download(\"https://www.kaggle.com/datasets/altruistdelhite04/loan-prediction-problem-dataset\")\n",
        "\n",
        "import pandas as pd\n",
        "\n",
        "# Load training data\n",
        "loan_df = pd.read_csv(\"loan-prediction-problem-dataset/train_u6lujuX_CVtuZ9i.csv\")\n",
        "print(loan_df.head())\n"
      ],
      "metadata": {
        "colab": {
          "base_uri": "https://localhost:8080/"
        },
        "id": "44zmhQCVLi7u",
        "outputId": "444c055d-105b-42e6-a570-4d0c6343b1b5"
      },
      "execution_count": null,
      "outputs": [
        {
          "output_type": "stream",
          "name": "stdout",
          "text": [
            "Skipping, found downloaded files in \"./loan-prediction-problem-dataset\" (use force=True to force download)\n",
            "    Loan_ID Gender Married Dependents     Education Self_Employed  \\\n",
            "0  LP001002   Male      No          0      Graduate            No   \n",
            "1  LP001003   Male     Yes          1      Graduate            No   \n",
            "2  LP001005   Male     Yes          0      Graduate           Yes   \n",
            "3  LP001006   Male     Yes          0  Not Graduate            No   \n",
            "4  LP001008   Male      No          0      Graduate            No   \n",
            "\n",
            "   ApplicantIncome  CoapplicantIncome  LoanAmount  Loan_Amount_Term  \\\n",
            "0             5849                0.0         NaN             360.0   \n",
            "1             4583             1508.0       128.0             360.0   \n",
            "2             3000                0.0        66.0             360.0   \n",
            "3             2583             2358.0       120.0             360.0   \n",
            "4             6000                0.0       141.0             360.0   \n",
            "\n",
            "   Credit_History Property_Area Loan_Status  \n",
            "0             1.0         Urban           Y  \n",
            "1             1.0         Rural           N  \n",
            "2             1.0         Urban           Y  \n",
            "3             1.0         Urban           Y  \n",
            "4             1.0         Urban           Y  \n"
          ]
        }
      ]
    },
    {
      "cell_type": "markdown",
      "source": [
        "Since we are having corresponding labels for each input, it is a supervised learning problem. Also the output values are numbers so it is regression problem."
      ],
      "metadata": {
        "id": "Nx9etxCHOvfs"
      }
    },
    {
      "cell_type": "markdown",
      "source": [
        "**ii.) Handwritten character recognition**"
      ],
      "metadata": {
        "id": "PSFA6AD_PHpw"
      }
    },
    {
      "cell_type": "code",
      "source": [
        "from tensorflow.keras.datasets import mnist\n",
        "\n",
        "(x_train, y_train), (x_test, y_test) = mnist.load_data()\n",
        "print(\"MNIST training shape:\", x_train.shape)\n",
        "print(x_train)\n",
        "\n",
        "# Flatten images and convert to float\n",
        "flat_x = x_train.reshape(x_train.shape[0], -1).astype(float)  # shape: (60000, 784)\n",
        "mnist_df = pd.DataFrame(flat_x)\n",
        "mnist_df['label'] = y_train\n",
        "\n",
        "# Sample 1000 rows for faster plotting\n",
        "mnist_df_sample = mnist_df.sample(n=1000, random_state=42)\n"
      ],
      "metadata": {
        "colab": {
          "base_uri": "https://localhost:8080/"
        },
        "id": "kgFsJOt1PG7T",
        "outputId": "9ed843a2-c6c0-41a0-bff3-9618c91b4412"
      },
      "execution_count": null,
      "outputs": [
        {
          "output_type": "stream",
          "name": "stdout",
          "text": [
            "MNIST training shape: (60000, 28, 28)\n",
            "[[[0 0 0 ... 0 0 0]\n",
            "  [0 0 0 ... 0 0 0]\n",
            "  [0 0 0 ... 0 0 0]\n",
            "  ...\n",
            "  [0 0 0 ... 0 0 0]\n",
            "  [0 0 0 ... 0 0 0]\n",
            "  [0 0 0 ... 0 0 0]]\n",
            "\n",
            " [[0 0 0 ... 0 0 0]\n",
            "  [0 0 0 ... 0 0 0]\n",
            "  [0 0 0 ... 0 0 0]\n",
            "  ...\n",
            "  [0 0 0 ... 0 0 0]\n",
            "  [0 0 0 ... 0 0 0]\n",
            "  [0 0 0 ... 0 0 0]]\n",
            "\n",
            " [[0 0 0 ... 0 0 0]\n",
            "  [0 0 0 ... 0 0 0]\n",
            "  [0 0 0 ... 0 0 0]\n",
            "  ...\n",
            "  [0 0 0 ... 0 0 0]\n",
            "  [0 0 0 ... 0 0 0]\n",
            "  [0 0 0 ... 0 0 0]]\n",
            "\n",
            " ...\n",
            "\n",
            " [[0 0 0 ... 0 0 0]\n",
            "  [0 0 0 ... 0 0 0]\n",
            "  [0 0 0 ... 0 0 0]\n",
            "  ...\n",
            "  [0 0 0 ... 0 0 0]\n",
            "  [0 0 0 ... 0 0 0]\n",
            "  [0 0 0 ... 0 0 0]]\n",
            "\n",
            " [[0 0 0 ... 0 0 0]\n",
            "  [0 0 0 ... 0 0 0]\n",
            "  [0 0 0 ... 0 0 0]\n",
            "  ...\n",
            "  [0 0 0 ... 0 0 0]\n",
            "  [0 0 0 ... 0 0 0]\n",
            "  [0 0 0 ... 0 0 0]]\n",
            "\n",
            " [[0 0 0 ... 0 0 0]\n",
            "  [0 0 0 ... 0 0 0]\n",
            "  [0 0 0 ... 0 0 0]\n",
            "  ...\n",
            "  [0 0 0 ... 0 0 0]\n",
            "  [0 0 0 ... 0 0 0]\n",
            "  [0 0 0 ... 0 0 0]]]\n"
          ]
        }
      ]
    },
    {
      "cell_type": "markdown",
      "source": [
        "Since we are having corresponding labels for each input, it is a supervised learning problem. Also the output values are classes (i.e., the character) it is a multiple class classification problem."
      ],
      "metadata": {
        "id": "FM2ElpNfQbZ8"
      }
    },
    {
      "cell_type": "markdown",
      "source": [
        "**iii.) Classification of Email spam**\n"
      ],
      "metadata": {
        "id": "7YhwHKUSQrGD"
      }
    },
    {
      "cell_type": "code",
      "source": [
        "import pandas as pd\n",
        "\n",
        "spam_url = \"https://archive.ics.uci.edu/ml/machine-learning-databases/spambase/spambase.data\"\n",
        "spam_cols = [f\"feature_{i}\" for i in range(57)] + [\"label\"]\n",
        "spam_df = pd.read_csv(spam_url, header=None, names=spam_cols)\n",
        "\n",
        "print(\"Spam data shape:\", spam_df.shape)\n",
        "print(spam_df)"
      ],
      "metadata": {
        "colab": {
          "base_uri": "https://localhost:8080/"
        },
        "id": "TtqEQ9jvQqpb",
        "outputId": "9b898441-ff7c-47c7-87e6-6b9a56b99408"
      },
      "execution_count": null,
      "outputs": [
        {
          "output_type": "stream",
          "name": "stdout",
          "text": [
            "Spam data shape: (4601, 58)\n",
            "      feature_0  feature_1  feature_2  feature_3  feature_4  feature_5  \\\n",
            "0          0.00       0.64       0.64        0.0       0.32       0.00   \n",
            "1          0.21       0.28       0.50        0.0       0.14       0.28   \n",
            "2          0.06       0.00       0.71        0.0       1.23       0.19   \n",
            "3          0.00       0.00       0.00        0.0       0.63       0.00   \n",
            "4          0.00       0.00       0.00        0.0       0.63       0.00   \n",
            "...         ...        ...        ...        ...        ...        ...   \n",
            "4596       0.31       0.00       0.62        0.0       0.00       0.31   \n",
            "4597       0.00       0.00       0.00        0.0       0.00       0.00   \n",
            "4598       0.30       0.00       0.30        0.0       0.00       0.00   \n",
            "4599       0.96       0.00       0.00        0.0       0.32       0.00   \n",
            "4600       0.00       0.00       0.65        0.0       0.00       0.00   \n",
            "\n",
            "      feature_6  feature_7  feature_8  feature_9  ...  feature_48  feature_49  \\\n",
            "0          0.00       0.00       0.00       0.00  ...       0.000       0.000   \n",
            "1          0.21       0.07       0.00       0.94  ...       0.000       0.132   \n",
            "2          0.19       0.12       0.64       0.25  ...       0.010       0.143   \n",
            "3          0.31       0.63       0.31       0.63  ...       0.000       0.137   \n",
            "4          0.31       0.63       0.31       0.63  ...       0.000       0.135   \n",
            "...         ...        ...        ...        ...  ...         ...         ...   \n",
            "4596       0.00       0.00       0.00       0.00  ...       0.000       0.232   \n",
            "4597       0.00       0.00       0.00       0.00  ...       0.000       0.000   \n",
            "4598       0.00       0.00       0.00       0.00  ...       0.102       0.718   \n",
            "4599       0.00       0.00       0.00       0.00  ...       0.000       0.057   \n",
            "4600       0.00       0.00       0.00       0.00  ...       0.000       0.000   \n",
            "\n",
            "      feature_50  feature_51  feature_52  feature_53  feature_54  feature_55  \\\n",
            "0            0.0       0.778       0.000       0.000       3.756          61   \n",
            "1            0.0       0.372       0.180       0.048       5.114         101   \n",
            "2            0.0       0.276       0.184       0.010       9.821         485   \n",
            "3            0.0       0.137       0.000       0.000       3.537          40   \n",
            "4            0.0       0.135       0.000       0.000       3.537          40   \n",
            "...          ...         ...         ...         ...         ...         ...   \n",
            "4596         0.0       0.000       0.000       0.000       1.142           3   \n",
            "4597         0.0       0.353       0.000       0.000       1.555           4   \n",
            "4598         0.0       0.000       0.000       0.000       1.404           6   \n",
            "4599         0.0       0.000       0.000       0.000       1.147           5   \n",
            "4600         0.0       0.125       0.000       0.000       1.250           5   \n",
            "\n",
            "      feature_56  label  \n",
            "0            278      1  \n",
            "1           1028      1  \n",
            "2           2259      1  \n",
            "3            191      1  \n",
            "4            191      1  \n",
            "...          ...    ...  \n",
            "4596          88      0  \n",
            "4597          14      0  \n",
            "4598         118      0  \n",
            "4599          78      0  \n",
            "4600          40      0  \n",
            "\n",
            "[4601 rows x 58 columns]\n"
          ]
        }
      ]
    },
    {
      "cell_type": "markdown",
      "source": [
        "Since we are having corresponding labels for each input, it is a supervised learning problem. Also the output values are classes (0/1 - not spam/spam) it is a classification problem."
      ],
      "metadata": {
        "id": "xAHYiuzORkGc"
      }
    },
    {
      "cell_type": "markdown",
      "source": [
        "**iv.) Predicting Diabetes**"
      ],
      "metadata": {
        "id": "j2Nis5PhRw17"
      }
    },
    {
      "cell_type": "code",
      "source": [
        "from sklearn.datasets import load_diabetes\n",
        "import pandas as pd\n",
        "\n",
        "diabetes = load_diabetes()\n",
        "diabetes_df = pd.DataFrame(data=diabetes.data, columns=diabetes.feature_names)\n",
        "diabetes_df['target'] = diabetes.target\n",
        "\n",
        "print(diabetes_df.head())\n"
      ],
      "metadata": {
        "colab": {
          "base_uri": "https://localhost:8080/"
        },
        "id": "lYZSYvHJOuxv",
        "outputId": "8f617799-b59e-484a-ec7d-244a90d55175"
      },
      "execution_count": null,
      "outputs": [
        {
          "output_type": "stream",
          "name": "stdout",
          "text": [
            "        age       sex       bmi        bp        s1        s2        s3  \\\n",
            "0  0.038076  0.050680  0.061696  0.021872 -0.044223 -0.034821 -0.043401   \n",
            "1 -0.001882 -0.044642 -0.051474 -0.026328 -0.008449 -0.019163  0.074412   \n",
            "2  0.085299  0.050680  0.044451 -0.005670 -0.045599 -0.034194 -0.032356   \n",
            "3 -0.089063 -0.044642 -0.011595 -0.036656  0.012191  0.024991 -0.036038   \n",
            "4  0.005383 -0.044642 -0.036385  0.021872  0.003935  0.015596  0.008142   \n",
            "\n",
            "         s4        s5        s6  target  \n",
            "0 -0.002592  0.019907 -0.017646   151.0  \n",
            "1 -0.039493 -0.068332 -0.092204    75.0  \n",
            "2 -0.002592  0.002861 -0.025930   141.0  \n",
            "3  0.034309  0.022688 -0.009362   206.0  \n",
            "4 -0.002592 -0.031988 -0.046641   135.0  \n"
          ]
        }
      ]
    },
    {
      "cell_type": "markdown",
      "source": [
        "Since we are having corresponding labels for each input, it is a supervised learning problem. Also the output values are numeric values it is a regression problem."
      ],
      "metadata": {
        "id": "u8LPaZp8R_X6"
      }
    },
    {
      "cell_type": "markdown",
      "source": [
        "**(v) Iris Dataset**"
      ],
      "metadata": {
        "id": "8ju0sSKtSKnS"
      }
    },
    {
      "cell_type": "code",
      "source": [
        "from sklearn.datasets import load_iris\n",
        "\n",
        "iris = load_iris()\n",
        "iris_df = pd.DataFrame(data=iris.data, columns=iris.feature_names)\n",
        "iris_df['target'] = iris.target\n",
        "\n",
        "print(iris_df.head())\n"
      ],
      "metadata": {
        "colab": {
          "base_uri": "https://localhost:8080/"
        },
        "id": "JtAZXaGbQZoK",
        "outputId": "c66d27b3-439d-4c29-ebc2-396fbd3b5f7c"
      },
      "execution_count": null,
      "outputs": [
        {
          "output_type": "stream",
          "name": "stdout",
          "text": [
            "   sepal length (cm)  sepal width (cm)  petal length (cm)  petal width (cm)  \\\n",
            "0                5.1               3.5                1.4               0.2   \n",
            "1                4.9               3.0                1.4               0.2   \n",
            "2                4.7               3.2                1.3               0.2   \n",
            "3                4.6               3.1                1.5               0.2   \n",
            "4                5.0               3.6                1.4               0.2   \n",
            "\n",
            "   target  \n",
            "0       0  \n",
            "1       0  \n",
            "2       0  \n",
            "3       0  \n",
            "4       0  \n"
          ]
        }
      ]
    },
    {
      "cell_type": "markdown",
      "source": [
        "Since we are having corresponding labels for each input, it is a supervised learning problem. Also the output values are classes (type of flower) it is a classification problem."
      ],
      "metadata": {
        "id": "45lcWK3ASXKD"
      }
    }
  ]
}